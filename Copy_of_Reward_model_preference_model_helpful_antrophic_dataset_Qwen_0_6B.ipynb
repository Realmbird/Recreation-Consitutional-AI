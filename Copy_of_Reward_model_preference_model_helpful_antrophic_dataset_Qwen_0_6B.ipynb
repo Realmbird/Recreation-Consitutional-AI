{
  "cells": [
    {
      "cell_type": "markdown",
      "metadata": {
        "id": "view-in-github",
        "colab_type": "text"
      },
      "source": [
        "<a href=\"https://colab.research.google.com/github/Realmbird/Recreation-Consitutional-AI/blob/main/Copy_of_Reward_model_preference_model_helpful_antrophic_dataset_Qwen_0_6B.ipynb\" target=\"_parent\"><img src=\"https://colab.research.google.com/assets/colab-badge.svg\" alt=\"Open In Colab\"/></a>"
      ]
    },
    {
      "cell_type": "code",
      "execution_count": null,
      "metadata": {
        "id": "Yp3LHQ0B9Tm2"
      },
      "outputs": [],
      "source": [
        "pip install -U datasets transformers # needed to prevent invalid pattern error"
      ]
    },
    {
      "cell_type": "code",
      "execution_count": null,
      "metadata": {
        "id": "XKy_Q0iThNrW"
      },
      "outputs": [],
      "source": [
        "!pip install trl bitsandbytes accelerate torch"
      ]
    },
    {
      "cell_type": "code",
      "execution_count": null,
      "metadata": {
        "id": "n7PF9U3Ysv4d"
      },
      "outputs": [],
      "source": [
        "from datasets import load_dataset"
      ]
    },
    {
      "cell_type": "code",
      "execution_count": null,
      "metadata": {
        "id": "tvONCsnFtD3i"
      },
      "outputs": [],
      "source": [
        "dataset = load_dataset(\"Anthropic/hh-rlhf\", data_dir=\"helpful-base\")"
      ]
    },
    {
      "cell_type": "code",
      "source": [
        "len(dataset[\"train\"])"
      ],
      "metadata": {
        "id": "k-guLZC-pf-L"
      },
      "execution_count": null,
      "outputs": []
    },
    {
      "cell_type": "code",
      "source": [
        "print(dataset[\"train\"][0])"
      ],
      "metadata": {
        "id": "FIZLeZvu8r_u"
      },
      "execution_count": null,
      "outputs": []
    },
    {
      "cell_type": "code",
      "execution_count": null,
      "metadata": {
        "id": "gu3S8kYUtPTE"
      },
      "outputs": [],
      "source": [
        "from transformers import AutoTokenizer, AutoModelForSequenceClassification, BitsAndBytesConfig\n",
        "import torch"
      ]
    },
    {
      "cell_type": "code",
      "execution_count": null,
      "metadata": {
        "id": "UoGSrVw9tP7c"
      },
      "outputs": [],
      "source": [
        "model_name = \"Qwen/Qwen3-0.6B\" # Or any other suitable model\n",
        "tokenizer = AutoTokenizer.from_pretrained(model_name)"
      ]
    },
    {
      "cell_type": "code",
      "source": [
        "# FP8 Qwen/Qwen3-0.6B-FP4 does not work with automodelforsequenceclassification\n",
        "bnb_config = BitsAndBytesConfig(\n",
        "    load_in_8bit=True,\n",
        "    llm_int8_threshold=6.0, # Recommended for 8-bit to handle outliers\n",
        ")"
      ],
      "metadata": {
        "id": "FcgZj1AdfHwp"
      },
      "execution_count": null,
      "outputs": []
    },
    {
      "cell_type": "code",
      "execution_count": null,
      "metadata": {
        "id": "JyUDp8Wa3ce-"
      },
      "outputs": [],
      "source": [
        "# Important: Add a pad token if the tokenizer doesn't have one, especially for decoder models.\n",
        "if tokenizer.pad_token is None:\n",
        "    tokenizer.add_special_tokens({'pad_token': tokenizer.eos_token})\n",
        "\n",
        "model = AutoModelForSequenceClassification.from_pretrained(model_name, num_labels=1, pad_token_id=tokenizer.pad_token_id, quantization_config=bnb_config) # accepted and rejceted label\n",
        "# Resize token embeddings if you added a new pad token\n",
        "model.resize_token_embeddings(len(tokenizer))"
      ]
    },
    {
      "cell_type": "code",
      "execution_count": null,
      "metadata": {
        "id": "e1L_zAvqjPJG"
      },
      "outputs": [],
      "source": [
        "from peft import LoraConfig, TaskType"
      ]
    },
    {
      "cell_type": "code",
      "execution_count": null,
      "metadata": {
        "id": "wljf6nEojOEi"
      },
      "outputs": [],
      "source": [
        "# stacks on top of BitsAndBytes\n",
        "peft_config = LoraConfig(\n",
        "    task_type=TaskType.SEQ_CLS,\n",
        "    inference_mode=False,\n",
        "    r=8,\n",
        "    lora_alpha=32,\n",
        "    lora_dropout=0.1,\n",
        ")"
      ]
    },
    {
      "cell_type": "code",
      "execution_count": null,
      "metadata": {
        "id": "Q-63--x8lAWe"
      },
      "outputs": [],
      "source": [
        "from trl.trainer.utils import disable_dropout_in_model"
      ]
    },
    {
      "cell_type": "code",
      "execution_count": null,
      "metadata": {
        "id": "xW0_RTyluVmx"
      },
      "outputs": [],
      "source": [
        "from trl import RewardTrainer, RewardConfig\n",
        "from transformers import TrainingArguments\n",
        "\n",
        "# Define training arguments errors I encountered 1. https://discuss.huggingface.co/t/rewardtrainer-problem/138214/7 2. https://github.com/tatsu-lab/stanford_alpaca/issues/133\n",
        "training_args = RewardConfig(\n",
        "    output_dir=\"Qwen3.0-1.7B-Reward\",\n",
        "    num_train_epochs=1,\n",
        "    per_device_train_batch_size=4, # <--- Try reducing this to 1 if weaker one\n",
        "    gradient_accumulation_steps=10, # <--- Add this to compensate for smaller batch size\n",
        "    bf16=True, # <--- ADD THIS LINE: Explicitly disable bfloat16) undone since bp16 is better than fp16(was forced to use because of T4 GPU)\n",
        "    report_to=\"none\"\n",
        ")\n",
        "trainer = RewardTrainer(\n",
        "    args=training_args,\n",
        "    model=model,\n",
        "    processing_class=tokenizer,\n",
        "    train_dataset=dataset[\"train\"], # Use the training split\n",
        "    eval_dataset=dataset[\"test\"],\n",
        "    peft_config=peft_config,\n",
        ")"
      ]
    },
    {
      "cell_type": "code",
      "execution_count": null,
      "metadata": {
        "id": "USH1fglevJu_"
      },
      "outputs": [],
      "source": [
        "trainer.train()"
      ]
    },
    {
      "cell_type": "code",
      "source": [
        "trainer.save_model(\"./reward_model_helpful_qwen\")"
      ],
      "metadata": {
        "id": "lWEWAHvUMtLi"
      },
      "execution_count": null,
      "outputs": []
    },
    {
      "cell_type": "code",
      "execution_count": null,
      "metadata": {
        "id": "A356t0_Gp82Z"
      },
      "outputs": [],
      "source": [
        "trainer.save_model(\"./final_reward_model_helpful_base\")"
      ]
    },
    {
      "cell_type": "code",
      "execution_count": null,
      "metadata": {
        "id": "kiXq4svkt9qW"
      },
      "outputs": [],
      "source": [
        "from huggingface_hub import notebook_login, HfApi"
      ]
    },
    {
      "cell_type": "code",
      "source": [
        "notebook_login()"
      ],
      "metadata": {
        "id": "9s6bsoiQKHXX"
      },
      "execution_count": null,
      "outputs": []
    },
    {
      "cell_type": "code",
      "source": [
        "trainer.push_to_hub()"
      ],
      "metadata": {
        "id": "Zg0M_FN9KSKe"
      },
      "execution_count": null,
      "outputs": []
    },
    {
      "cell_type": "code",
      "source": [
        "hub_model_id=\"Realmbird/helpfulness-preference-model-qwen-0.6B\""
      ],
      "metadata": {
        "id": "1SBHTLWLK0es"
      },
      "execution_count": null,
      "outputs": []
    },
    {
      "cell_type": "code",
      "source": [
        "tokenizer.push_to_hub(repo_id = hub_model_id)"
      ],
      "metadata": {
        "id": "3y7WNTE2LLqp"
      },
      "execution_count": null,
      "outputs": []
    },
    {
      "cell_type": "code",
      "source": [
        "pip install nb-clean"
      ],
      "metadata": {
        "id": "BgLwRx-YQKiX"
      },
      "execution_count": null,
      "outputs": []
    }
  ],
  "metadata": {
    "accelerator": "GPU",
    "colab": {
      "gpuType": "A100",
      "provenance": [],
      "machine_shape": "hm",
      "include_colab_link": true
    },
    "kernelspec": {
      "display_name": "Python 3",
      "name": "python3"
    },
    "language_info": {
      "name": "python"
    }
  },
  "nbformat": 4,
  "nbformat_minor": 0
}